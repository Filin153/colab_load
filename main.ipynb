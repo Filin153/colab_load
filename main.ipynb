{
 "cells": [
  {
   "cell_type": "code",
   "source": [
    "from colab_load.load import StartLoad"
   ],
   "metadata": {
    "collapsed": false,
    "ExecuteTime": {
     "end_time": "2024-11-22T14:41:55.217404Z",
     "start_time": "2024-11-22T14:41:55.210850Z"
    }
   },
   "id": "8b225a8764a07b6e",
   "outputs": [],
   "execution_count": 6
  },
  {
   "cell_type": "code",
   "source": [
    "urls=[\"https://colab.research.google.com/drive/1uQ3QH3khRGYcQ8kU3OMyG1xRF6MB70xA?usp=sharing\", \"https://colab.research.google.com/drive/1bKxzUeOalOelP7HQ3KGBsF35j7CC2ZFh?usp=sharing\"]\n",
    "s = StartLoad(logs=True)\n",
    "s.load_file_all(urls, save_dir=\"file\", count=10)"
   ],
   "metadata": {
    "collapsed": false
   },
   "id": "111696c70409abba",
   "outputs": [],
   "execution_count": null
  },
  {
   "cell_type": "code",
   "source": [
    "s = StartLoad(logs=True)\n",
    "a = s.load_file_single(\"https://colab.research.google.com/drive/1m5QWT6KK4_7ceGrjJj_55kqpNAVvimIR\", save_dir=\"file\")\n",
    "\n",
    "a"
   ],
   "metadata": {
    "collapsed": false,
    "ExecuteTime": {
     "end_time": "2024-11-22T14:42:13.887567Z",
     "start_time": "2024-11-22T14:41:57.022321Z"
    }
   },
   "id": "7446ad0fb72e05eb",
   "outputs": [
    {
     "name": "stdout",
     "output_type": "stream",
     "text": [
      "File save to - file/Untitled12_ipynb\n"
     ]
    },
    {
     "data": {
      "text/plain": [
       "'file/Untitled12_ipynb.ipynb'"
      ]
     },
     "execution_count": 7,
     "metadata": {},
     "output_type": "execute_result"
    }
   ],
   "execution_count": 7
  },
  {
   "metadata": {},
   "cell_type": "code",
   "outputs": [],
   "execution_count": null,
   "source": "type(a)",
   "id": "ff24b80ff0434823"
  },
  {
   "metadata": {},
   "cell_type": "code",
   "outputs": [],
   "execution_count": null,
   "source": "\"\"",
   "id": "347795fc3f719c9e"
  }
 ],
 "metadata": {
  "kernelspec": {
   "display_name": "Python 3",
   "language": "python",
   "name": "python3"
  },
  "language_info": {
   "codemirror_mode": {
    "name": "ipython",
    "version": 2
   },
   "file_extension": ".py",
   "mimetype": "text/x-python",
   "name": "python",
   "nbconvert_exporter": "python",
   "pygments_lexer": "ipython2",
   "version": "2.7.6"
  }
 },
 "nbformat": 4,
 "nbformat_minor": 5
}
