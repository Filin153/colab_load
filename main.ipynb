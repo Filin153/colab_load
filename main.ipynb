{
 "cells": [
  {
   "cell_type": "code",
   "source": [
    "from colab_load.load import StartLoad"
   ],
   "metadata": {
    "collapsed": false
   },
   "id": "8b225a8764a07b6e",
   "outputs": [],
   "execution_count": null
  },
  {
   "cell_type": "code",
   "source": [
    "urls=[\"https://colab.research.google.com/drive/1uQ3QH3khRGYcQ8kU3OMyG1xRF6MB70xA?usp=sharing\", \"https://colab.research.google.com/drive/1bKxzUeOalOelP7HQ3KGBsF35j7CC2ZFh?usp=sharing\"]\n",
    "s = StartLoad(logs=True)\n",
    "s.load_file_all(urls, save_dir=\"file\", count=10)"
   ],
   "metadata": {
    "collapsed": false
   },
   "id": "111696c70409abba",
   "outputs": [],
   "execution_count": null
  },
  {
   "cell_type": "code",
   "source": [
    "s = StartLoad(logs=True)\n",
    "s.load_file_single(\"https://colab.research.google.com/drive/1m5QWT6KK4_7ceGrjJj_55kqpNAVvimIR\", save_dir=\"file\")"
   ],
   "metadata": {
    "collapsed": false
   },
   "id": "7446ad0fb72e05eb",
   "outputs": [],
   "execution_count": null
  }
 ],
 "metadata": {
  "kernelspec": {
   "display_name": "Python 3",
   "language": "python",
   "name": "python3"
  },
  "language_info": {
   "codemirror_mode": {
    "name": "ipython",
    "version": 2
   },
   "file_extension": ".py",
   "mimetype": "text/x-python",
   "name": "python",
   "nbconvert_exporter": "python",
   "pygments_lexer": "ipython2",
   "version": "2.7.6"
  }
 },
 "nbformat": 4,
 "nbformat_minor": 5
}
